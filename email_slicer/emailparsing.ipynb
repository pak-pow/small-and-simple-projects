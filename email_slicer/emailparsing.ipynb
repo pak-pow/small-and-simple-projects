{
 "cells": [
  {
   "cell_type": "code",
   "execution_count": 37,
   "id": "5a0fa724-a0cf-4338-a2bf-57b4d0741c77",
   "metadata": {},
   "outputs": [
    {
     "name": "stdout",
     "output_type": "stream",
     "text": [
      "john.delacruz23@gmail.com\n",
      "maricar.bautista@companymail.org\n",
      "john.delacruz23@gmail.com\n",
      "francis_bernal01@corp.ph\n",
      "rhian.gomez@branch.io\n",
      "ongreports23@analytics.net\n",
      "sheila_monte@hrplus.ph\n",
      "ronald.evans@trainings.org\n",
      "gary.tan@system.co\n",
      "allan.vergara@vergaragroup.ph\n",
      "janinecruz@mail.ph\n",
      "antonio.lito@oldmail.com\n",
      "anna_santos@gmail.com\n",
      "robles_mark21@proton.me\n",
      "cathy_del_rosario88@outlook.com\n",
      "dumlaoedgar1983@yahoo.com\n",
      "jared.pena@stackdev.io\n",
      "cesar.debug@devmail.net\n",
      "it.support@myuniv.edu.ph\n",
      "invoice2024@billing.pay\n",
      "karen.yu99@gmail.com\n",
      "rj.reyes@archi.design\n",
      "maria@unknown.ph\n",
      "daniel.ortega@none.net\n",
      "help@payments.io\n",
      "support@securemail.org\n"
     ]
    }
   ],
   "source": [
    "import re \n",
    "\n",
    "with open(\"sample_data.txt\", \"r\", newline = \"\") as file: \n",
    "    reader = file.readlines()\n",
    "\n",
    "emails = [emails for lines in reader for emails in re.findall(r\"[\\w\\.-]+@[\\w\\.-]+\\.\\w+\", lines)] \n",
    "\n",
    "for e in emails:\n",
    "    print(e)"
   ]
  },
  {
   "cell_type": "code",
   "execution_count": null,
   "id": "05760aac-a5e5-4708-98b7-166b098f0532",
   "metadata": {},
   "outputs": [],
   "source": []
  },
  {
   "cell_type": "code",
   "execution_count": null,
   "id": "13669c66-ad90-48e2-a30c-5d2fad773a99",
   "metadata": {},
   "outputs": [],
   "source": []
  }
 ],
 "metadata": {
  "kernelspec": {
   "display_name": "Python 3 (ipykernel)",
   "language": "python",
   "name": "python3"
  },
  "language_info": {
   "codemirror_mode": {
    "name": "ipython",
    "version": 3
   },
   "file_extension": ".py",
   "mimetype": "text/x-python",
   "name": "python",
   "nbconvert_exporter": "python",
   "pygments_lexer": "ipython3",
   "version": "3.12.5"
  }
 },
 "nbformat": 4,
 "nbformat_minor": 5
}
